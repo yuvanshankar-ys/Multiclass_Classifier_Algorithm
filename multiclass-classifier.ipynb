{
 "cells": [
  {
   "cell_type": "code",
   "execution_count": null,
   "metadata": {
    "_cell_guid": "0ce4e184-c4c2-49cf-9abc-f214511b5b24",
    "_uuid": "4a019dde-e833-45c0-bc71-55f295a51a8b",
    "collapsed": false,
    "execution": {
     "iopub.execute_input": "2023-01-13T07:27:00.080665Z",
     "iopub.status.busy": "2023-01-13T07:27:00.080243Z",
     "iopub.status.idle": "2023-01-13T07:27:24.427437Z",
     "shell.execute_reply": "2023-01-13T07:27:24.426477Z",
     "shell.execute_reply.started": "2023-01-13T07:27:00.080583Z"
    },
    "jupyter": {
     "outputs_hidden": false
    },
    "trusted": true
   },
   "outputs": [],
   "source": [
    "from sklearn.datasets import load_files\n",
    "import numpy as np\n",
    "\n",
    "train_dir = '../input/fruits-veges-15class/Fruits_veges_15class/Training'\n",
    "test_dir = '../input/fruits-veges-15class/Fruits_veges_15class/Test'\n",
    "\n",
    "def load_dataset(path):\n",
    "    data = load_files(path)\n",
    "    files = np.array(data['filenames'])\n",
    "    targets = np.array(data['target'])\n",
    "    target_labels = np.array(data['target_names'])\n",
    "    return files,targets,target_labels\n",
    "    \n",
    "x_train, y_train,target_labels = load_dataset(train_dir)\n",
    "x_test, y_test,_ = load_dataset(test_dir)\n",
    "print('Loading complete!')\n",
    "\n",
    "print('Training set size : ' , x_train.shape[0])\n",
    "print('Testing set size : ', x_test.shape[0])"
   ]
  },
  {
   "cell_type": "code",
   "execution_count": null,
   "metadata": {
    "execution": {
     "iopub.execute_input": "2023-01-13T07:29:20.874801Z",
     "iopub.status.busy": "2023-01-13T07:29:20.874410Z",
     "iopub.status.idle": "2023-01-13T07:29:20.885804Z",
     "shell.execute_reply": "2023-01-13T07:29:20.884335Z",
     "shell.execute_reply.started": "2023-01-13T07:29:20.874769Z"
    },
    "trusted": true
   },
   "outputs": [],
   "source": [
    "no_of_classes = len(np.unique(y_train))\n",
    "no_of_classes"
   ]
  },
  {
   "cell_type": "code",
   "execution_count": null,
   "metadata": {
    "execution": {
     "iopub.execute_input": "2023-01-13T07:29:23.798907Z",
     "iopub.status.busy": "2023-01-13T07:29:23.798518Z",
     "iopub.status.idle": "2023-01-13T07:29:23.803700Z",
     "shell.execute_reply": "2023-01-13T07:29:23.802978Z",
     "shell.execute_reply.started": "2023-01-13T07:29:23.798875Z"
    },
    "trusted": true
   },
   "outputs": [],
   "source": [
    "print(y_train[0:10])"
   ]
  },
  {
   "cell_type": "code",
   "execution_count": null,
   "metadata": {
    "execution": {
     "iopub.execute_input": "2023-01-13T07:29:26.643905Z",
     "iopub.status.busy": "2023-01-13T07:29:26.643515Z",
     "iopub.status.idle": "2023-01-13T07:29:31.000148Z",
     "shell.execute_reply": "2023-01-13T07:29:30.999344Z",
     "shell.execute_reply.started": "2023-01-13T07:29:26.643870Z"
    },
    "trusted": true
   },
   "outputs": [],
   "source": [
    "from keras.utils import np_utils\n",
    "y_train = np_utils.to_categorical(y_train,no_of_classes)\n",
    "y_test = np_utils.to_categorical(y_test,no_of_classes)\n",
    "y_train[0]"
   ]
  },
  {
   "cell_type": "code",
   "execution_count": null,
   "metadata": {
    "execution": {
     "iopub.execute_input": "2023-01-13T07:31:13.225508Z",
     "iopub.status.busy": "2023-01-13T07:31:13.224855Z",
     "iopub.status.idle": "2023-01-13T07:31:13.232386Z",
     "shell.execute_reply": "2023-01-13T07:31:13.231335Z",
     "shell.execute_reply.started": "2023-01-13T07:31:13.225472Z"
    },
    "trusted": true
   },
   "outputs": [],
   "source": [
    "x_test,x_valid = x_test[1200:],x_test[:1200]\n",
    "y_test,y_vaild = y_test[1200:],y_test[:1200]\n",
    "print('Vaildation X : ',x_valid.shape)\n",
    "print('Vaildation y :',y_vaild.shape)\n",
    "print('Test X : ',x_test.shape)\n",
    "print('Test y : ',y_test.shape)"
   ]
  },
  {
   "cell_type": "code",
   "execution_count": null,
   "metadata": {
    "execution": {
     "iopub.execute_input": "2023-01-13T07:31:19.745953Z",
     "iopub.status.busy": "2023-01-13T07:31:19.744497Z",
     "iopub.status.idle": "2023-01-13T07:31:19.755911Z",
     "shell.execute_reply": "2023-01-13T07:31:19.753541Z",
     "shell.execute_reply.started": "2023-01-13T07:31:19.745901Z"
    },
    "trusted": true
   },
   "outputs": [],
   "source": [
    "x_train[0]"
   ]
  },
  {
   "cell_type": "code",
   "execution_count": null,
   "metadata": {
    "execution": {
     "iopub.execute_input": "2023-01-13T07:31:22.863375Z",
     "iopub.status.busy": "2023-01-13T07:31:22.863012Z",
     "iopub.status.idle": "2023-01-13T07:31:33.868692Z",
     "shell.execute_reply": "2023-01-13T07:31:33.867646Z",
     "shell.execute_reply.started": "2023-01-13T07:31:22.863345Z"
    },
    "trusted": true
   },
   "outputs": [],
   "source": [
    "from keras.preprocessing.image import array_to_img, img_to_array, load_img\n",
    "\n",
    "def convert_image_to_array(files):\n",
    "    images_as_array=[]\n",
    "    for file in files:\n",
    "        # Convert to Numpy Array\n",
    "        images_as_array.append(img_to_array(load_img(file)))\n",
    "    return images_as_array\n",
    "\n",
    "x_train = np.array(convert_image_to_array(x_train))\n",
    "print('Training set shape : ',x_train.shape)\n",
    "\n",
    "x_valid = np.array(convert_image_to_array(x_valid))\n",
    "print('Validation set shape : ',x_valid.shape)\n",
    "\n",
    "x_test = np.array(convert_image_to_array(x_test))\n",
    "print('Test set shape : ',x_test.shape)\n",
    "\n",
    "print('1st training image shape ',x_train[0].shape)"
   ]
  },
  {
   "cell_type": "code",
   "execution_count": null,
   "metadata": {
    "execution": {
     "iopub.execute_input": "2023-01-13T07:32:55.684794Z",
     "iopub.status.busy": "2023-01-13T07:32:55.684389Z",
     "iopub.status.idle": "2023-01-13T07:32:55.691018Z",
     "shell.execute_reply": "2023-01-13T07:32:55.690055Z",
     "shell.execute_reply.started": "2023-01-13T07:32:55.684757Z"
    },
    "trusted": true
   },
   "outputs": [],
   "source": [
    "print('1st training image as array',x_train[0])"
   ]
  },
  {
   "cell_type": "code",
   "execution_count": null,
   "metadata": {
    "execution": {
     "iopub.execute_input": "2023-01-13T07:33:00.264407Z",
     "iopub.status.busy": "2023-01-13T07:33:00.264038Z",
     "iopub.status.idle": "2023-01-13T07:33:00.764413Z",
     "shell.execute_reply": "2023-01-13T07:33:00.763609Z",
     "shell.execute_reply.started": "2023-01-13T07:33:00.264377Z"
    },
    "trusted": true
   },
   "outputs": [],
   "source": [
    "x_train = x_train.astype('float32')/255\n",
    "x_valid = x_valid.astype('float32')/255\n",
    "x_test = x_test.astype('float32')/255\n",
    "x_train[0]"
   ]
  },
  {
   "cell_type": "code",
   "execution_count": null,
   "metadata": {
    "execution": {
     "iopub.execute_input": "2023-01-13T07:33:03.459634Z",
     "iopub.status.busy": "2023-01-13T07:33:03.459272Z",
     "iopub.status.idle": "2023-01-13T07:33:03.921568Z",
     "shell.execute_reply": "2023-01-13T07:33:03.920813Z",
     "shell.execute_reply.started": "2023-01-13T07:33:03.459604Z"
    },
    "trusted": true
   },
   "outputs": [],
   "source": [
    "import matplotlib.pyplot as plt\n",
    "\n",
    "fig = plt.figure(figsize =(30,5))\n",
    "for i in range(10):\n",
    "    ax = fig.add_subplot(2,5,i+1,xticks=[],yticks=[])\n",
    "    ax.imshow(np.squeeze(x_train[i]))"
   ]
  },
  {
   "cell_type": "code",
   "execution_count": null,
   "metadata": {
    "execution": {
     "iopub.execute_input": "2023-01-13T07:33:11.540408Z",
     "iopub.status.busy": "2023-01-13T07:33:11.540041Z",
     "iopub.status.idle": "2023-01-13T07:33:14.092812Z",
     "shell.execute_reply": "2023-01-13T07:33:14.091954Z",
     "shell.execute_reply.started": "2023-01-13T07:33:11.540378Z"
    },
    "trusted": true
   },
   "outputs": [],
   "source": [
    "from keras.models import Sequential\n",
    "from keras.layers import Conv2D,MaxPooling2D\n",
    "from keras.layers import Activation, Dense, Flatten, Dropout\n",
    "from keras.preprocessing.image import ImageDataGenerator\n",
    "from keras.callbacks import ModelCheckpoint\n",
    "from keras import backend as K\n",
    "\n",
    "model = Sequential()\n",
    "model.add(Conv2D(filters = 16, kernel_size = 2,input_shape=(100,100,3),padding='same'))\n",
    "model.add(Activation('relu'))\n",
    "model.add(MaxPooling2D(pool_size=2))\n",
    "\n",
    "model.add(Conv2D(filters = 32,kernel_size = 2,activation= 'relu',padding='same'))\n",
    "model.add(MaxPooling2D(pool_size=2))\n",
    "\n",
    "model.add(Conv2D(filters = 64,kernel_size = 2,activation= 'relu',padding='same'))\n",
    "model.add(MaxPooling2D(pool_size=2))\n",
    "\n",
    "model.add(Conv2D(filters = 128,kernel_size = 2,activation= 'relu',padding='same'))\n",
    "model.add(MaxPooling2D(pool_size=2))\n",
    "\n",
    "model.add(Dropout(0.3))\n",
    "model.add(Flatten())\n",
    "model.add(Dense(150))\n",
    "model.add(Activation('relu'))\n",
    "model.add(Dropout(0.4))\n",
    "model.add(Dense(15,activation = 'softmax'))\n",
    "model.summary()"
   ]
  },
  {
   "cell_type": "code",
   "execution_count": 12,
   "metadata": {
    "execution": {
     "iopub.execute_input": "2023-01-13T07:33:53.679859Z",
     "iopub.status.busy": "2023-01-13T07:33:53.679259Z",
     "iopub.status.idle": "2023-01-13T07:33:53.695482Z",
     "shell.execute_reply": "2023-01-13T07:33:53.694691Z",
     "shell.execute_reply.started": "2023-01-13T07:33:53.679821Z"
    },
    "trusted": true
   },
   "outputs": [],
   "source": [
    "model.compile(loss='categorical_crossentropy',\n",
    "              optimizer='rmsprop',\n",
    "              metrics=['accuracy'])"
   ]
  },
  {
   "cell_type": "code",
   "execution_count": null,
   "metadata": {
    "execution": {
     "iopub.execute_input": "2023-01-13T07:33:57.774850Z",
     "iopub.status.busy": "2023-01-13T07:33:57.774464Z",
     "iopub.status.idle": "2023-01-13T07:34:49.781588Z",
     "shell.execute_reply": "2023-01-13T07:34:49.780306Z",
     "shell.execute_reply.started": "2023-01-13T07:33:57.774819Z"
    },
    "trusted": true
   },
   "outputs": [],
   "source": [
    "batch_size = 25\n",
    "\n",
    "checkpointer = ModelCheckpoint(filepath = 'cnn_from_scratch_fruits.hdf5', verbose = 1, save_best_only = True)\n",
    "\n",
    "history = model.fit(x_train,y_train,\n",
    "        batch_size = 32,\n",
    "        epochs=30,\n",
    "        validation_data=(x_valid, y_vaild),\n",
    "        callbacks = [checkpointer],\n",
    "        verbose=2, shuffle=True)"
   ]
  },
  {
   "cell_type": "code",
   "execution_count": 16,
   "metadata": {
    "execution": {
     "iopub.execute_input": "2023-01-13T07:38:20.940392Z",
     "iopub.status.busy": "2023-01-13T07:38:20.940031Z",
     "iopub.status.idle": "2023-01-13T07:38:20.964988Z",
     "shell.execute_reply": "2023-01-13T07:38:20.964272Z",
     "shell.execute_reply.started": "2023-01-13T07:38:20.940362Z"
    },
    "trusted": true
   },
   "outputs": [],
   "source": [
    "model.load_weights('cnn_from_scratch_fruits.hdf5')"
   ]
  },
  {
   "cell_type": "code",
   "execution_count": null,
   "metadata": {
    "execution": {
     "iopub.execute_input": "2023-01-13T07:38:24.704556Z",
     "iopub.status.busy": "2023-01-13T07:38:24.704196Z",
     "iopub.status.idle": "2023-01-13T07:38:25.214336Z",
     "shell.execute_reply": "2023-01-13T07:38:25.213401Z",
     "shell.execute_reply.started": "2023-01-13T07:38:24.704526Z"
    },
    "trusted": true
   },
   "outputs": [],
   "source": [
    "score = model.evaluate(x_test, y_test, verbose=0)\n",
    "print('Test accuracy:', score[1])"
   ]
  },
  {
   "cell_type": "code",
   "execution_count": null,
   "metadata": {
    "execution": {
     "iopub.execute_input": "2023-01-13T07:38:31.881089Z",
     "iopub.status.busy": "2023-01-13T07:38:31.880699Z",
     "iopub.status.idle": "2023-01-13T07:38:33.112212Z",
     "shell.execute_reply": "2023-01-13T07:38:33.107937Z",
     "shell.execute_reply.started": "2023-01-13T07:38:31.881058Z"
    },
    "trusted": true
   },
   "outputs": [],
   "source": [
    "y_pred = model.predict(x_test)\n",
    "\n",
    "# plot a random sample of test images, their predicted labels, and ground truth\n",
    "fig = plt.figure(figsize=(16, 9))\n",
    "for i, idx in enumerate(np.random.choice(x_test.shape[0], size=16, replace=False)):\n",
    "    ax = fig.add_subplot(4, 4, i + 1, xticks=[], yticks=[])\n",
    "    ax.imshow(np.squeeze(x_test[idx]))\n",
    "    pred_idx = np.argmax(y_pred[idx])\n",
    "    true_idx = np.argmax(y_test[idx])\n",
    "    ax.set_title(\"{} ({})\".format(target_labels[pred_idx], target_labels[true_idx]),\n",
    "                 color=(\"green\" if pred_idx == true_idx else \"red\"))"
   ]
  },
  {
   "cell_type": "code",
   "execution_count": null,
   "metadata": {
    "execution": {
     "iopub.execute_input": "2023-01-13T07:39:14.155437Z",
     "iopub.status.busy": "2023-01-13T07:39:14.155075Z",
     "iopub.status.idle": "2023-01-13T07:39:15.515124Z",
     "shell.execute_reply": "2023-01-13T07:39:15.510987Z",
     "shell.execute_reply.started": "2023-01-13T07:39:14.155409Z"
    },
    "trusted": true
   },
   "outputs": [],
   "source": [
    "y_pred = model.predict(x_test)\n",
    "\n",
    "# plot a random sample of test images, their predicted labels, and ground truth\n",
    "fig = plt.figure(figsize=(16, 9))\n",
    "for i, idx in enumerate(np.random.choice(x_test.shape[0], size=16, replace=False)):\n",
    "    ax = fig.add_subplot(4, 4, i + 1, xticks=[], yticks=[])\n",
    "    ax.imshow(np.squeeze(x_test[idx]))\n",
    "    pred_idx = np.argmax(y_pred[idx])\n",
    "    true_idx = np.argmax(y_test[idx])\n",
    "    ax.set_title(\"{} ({})\".format(target_labels[pred_idx], target_labels[true_idx]),\n",
    "                 color=(\"green\" if pred_idx == true_idx else \"red\"))"
   ]
  },
  {
   "cell_type": "code",
   "execution_count": null,
   "metadata": {
    "execution": {
     "iopub.execute_input": "2023-01-13T07:39:35.620452Z",
     "iopub.status.busy": "2023-01-13T07:39:35.620082Z",
     "iopub.status.idle": "2023-01-13T07:39:36.746273Z",
     "shell.execute_reply": "2023-01-13T07:39:36.745538Z",
     "shell.execute_reply.started": "2023-01-13T07:39:35.620422Z"
    },
    "trusted": true
   },
   "outputs": [],
   "source": [
    "y_pred = model.predict(x_test)\n",
    "\n",
    "# plot a random sample of test images, their predicted labels, and ground truth\n",
    "fig = plt.figure(figsize=(16, 9))\n",
    "for i, idx in enumerate(np.random.choice(x_test.shape[0], size=16, replace=False)):\n",
    "    ax = fig.add_subplot(4, 4, i + 1, xticks=[], yticks=[])\n",
    "    ax.imshow(np.squeeze(x_test[idx]))\n",
    "    pred_idx = np.argmax(y_pred[idx])\n",
    "    true_idx = np.argmax(y_test[idx])\n",
    "    ax.set_title(\"{} ({})\".format(target_labels[pred_idx], target_labels[true_idx]),\n",
    "                 color=(\"green\" if pred_idx == true_idx else \"red\"))"
   ]
  },
  {
   "cell_type": "code",
   "execution_count": null,
   "metadata": {
    "execution": {
     "iopub.execute_input": "2023-01-13T07:39:50.240778Z",
     "iopub.status.busy": "2023-01-13T07:39:50.240402Z",
     "iopub.status.idle": "2023-01-13T07:39:50.537349Z",
     "shell.execute_reply": "2023-01-13T07:39:50.536547Z",
     "shell.execute_reply.started": "2023-01-13T07:39:50.240744Z"
    },
    "trusted": true
   },
   "outputs": [],
   "source": [
    "import matplotlib.pyplot as plt \n",
    "plt.figure(1)  \n",
    "   \n",
    " # summarize history for accuracy  \n",
    "   \n",
    "plt.subplot(211)  \n",
    "plt.plot(history.history['accuracy'])  \n",
    "plt.plot(history.history['val_accuracy'])  \n",
    "plt.title('model accuracy')  \n",
    "plt.ylabel('accuracy')  \n",
    "plt.xlabel('epoch')  \n",
    "plt.legend(['train', 'test'], loc='upper left')  \n",
    "   \n",
    " # summarize history for loss  \n",
    "   \n",
    "plt.subplot(212)  \n",
    "plt.plot(history.history['loss'])  \n",
    "plt.plot(history.history['val_loss'])  \n",
    "plt.title('model loss')  \n",
    "plt.ylabel('loss')  \n",
    "plt.xlabel('epoch')  \n",
    "plt.legend(['train', 'test'], loc='upper left')  \n",
    "plt.show()"
   ]
  },
  {
   "cell_type": "code",
   "execution_count": 22,
   "metadata": {
    "execution": {
     "iopub.execute_input": "2023-01-13T07:40:02.730199Z",
     "iopub.status.busy": "2023-01-13T07:40:02.729843Z",
     "iopub.status.idle": "2023-01-13T07:40:02.771537Z",
     "shell.execute_reply": "2023-01-13T07:40:02.770774Z",
     "shell.execute_reply.started": "2023-01-13T07:40:02.730172Z"
    },
    "trusted": true
   },
   "outputs": [],
   "source": [
    "model.save('model_v4.h5')"
   ]
  },
  {
   "cell_type": "code",
   "execution_count": 23,
   "metadata": {
    "execution": {
     "iopub.execute_input": "2023-01-13T07:40:15.375608Z",
     "iopub.status.busy": "2023-01-13T07:40:15.375249Z",
     "iopub.status.idle": "2023-01-13T07:40:15.379773Z",
     "shell.execute_reply": "2023-01-13T07:40:15.378815Z",
     "shell.execute_reply.started": "2023-01-13T07:40:15.375578Z"
    },
    "trusted": true
   },
   "outputs": [],
   "source": [
    "from tensorflow import keras\n"
   ]
  },
  {
   "cell_type": "code",
   "execution_count": 24,
   "metadata": {
    "execution": {
     "iopub.execute_input": "2023-01-13T07:40:18.189434Z",
     "iopub.status.busy": "2023-01-13T07:40:18.189078Z",
     "iopub.status.idle": "2023-01-13T07:40:18.568276Z",
     "shell.execute_reply": "2023-01-13T07:40:18.567492Z",
     "shell.execute_reply.started": "2023-01-13T07:40:18.189405Z"
    },
    "trusted": true
   },
   "outputs": [],
   "source": [
    "model = keras.models.load_model('model_v4.h5')"
   ]
  }
 ],
 "metadata": {
  "kernelspec": {
   "display_name": "Python 3",
   "language": "python",
   "name": "python3"
  },
  "language_info": {
   "codemirror_mode": {
    "name": "ipython",
    "version": 3
   },
   "file_extension": ".py",
   "mimetype": "text/x-python",
   "name": "python",
   "nbconvert_exporter": "python",
   "pygments_lexer": "ipython3",
   "version": "3.7.12"
  }
 },
 "nbformat": 4,
 "nbformat_minor": 4
}
